{
 "cells": [
  {
   "cell_type": "markdown",
   "id": "8ebbc875",
   "metadata": {},
   "source": [
    "### Decorated decktop clock"
   ]
  },
  {
   "cell_type": "code",
   "execution_count": 6,
   "id": "b87e04f4",
   "metadata": {},
   "outputs": [],
   "source": [
    "import tkinter as tk\n",
    "from PIL import ImageTk, Image\n",
    "from datetime import datetime\n",
    "\n",
    "class DecoratedClock(tk.Frame):\n",
    "    def __init__(self, master=None, image_path=None, **kwargs):\n",
    "        super().__init__(master, **kwargs)\n",
    "        self.image_path = image_path\n",
    "        self.load_image()\n",
    "        self.create_clock_label()\n",
    "        self.update_clock()\n",
    "\n",
    "    def load_image(self):\n",
    "        try:\n",
    "            # Load the image file\n",
    "            image = Image.open(self.image_path)\n",
    "            image = image.resize((400, 400))  # Resize the image if necessary\n",
    "            self.photo = ImageTk.PhotoImage(image)\n",
    "\n",
    "            # Create a label with the image as the background\n",
    "            self.image_label = tk.Label(self, image=self.photo)\n",
    "            self.image_label.pack()\n",
    "\n",
    "        except Exception as e:\n",
    "            print(\"Error loading image:\", str(e))\n",
    "\n",
    "    def create_clock_label(self):\n",
    "        self.clock_label = tk.Label(self, font=(\"Arial\", 42), bg=\"#b0ae85\", foreground=\"maroon\")\n",
    "        self.clock_label.place(relx=0.5, rely=0.51, anchor=\"center\")\n",
    "     \n",
    "        \n",
    "    def update_clock(self):\n",
    "        current_time = datetime.now().strftime(\"%H:%M:%S\")  # Get current time\n",
    "        self.clock_label.config(text=current_time)  # Update the clock label\n",
    "        self.after(1000, self.update_clock)  # Schedule the next update after 1 second (1000 milliseconds)\n",
    "\n",
    "root = tk.Tk()\n",
    "root.title(\"Decorated Clock\")\n",
    "\n",
    "image_path = \"C:/Users/syriu/arnouveau_frame.png\"\n",
    "clock = DecoratedClock(root, image_path=image_path)\n",
    "clock.pack()\n",
    "\n",
    "root.mainloop()\n"
   ]
  },
  {
   "cell_type": "code",
   "execution_count": 8,
   "id": "f71a0afc",
   "metadata": {},
   "outputs": [
    {
     "name": "stdout",
     "output_type": "stream",
     "text": [
      "pygame 2.4.0 (SDL 2.26.4, Python 3.9.7)\n",
      "Hello from the pygame community. https://www.pygame.org/contribute.html\n"
     ]
    },
    {
     "name": "stderr",
     "output_type": "stream",
     "text": [
      "1656 INFO: PyInstaller: 5.11.0\n",
      "1656 INFO: Python: 3.9.7 (conda)\n",
      "1672 INFO: Platform: Windows-10-10.0.22621-SP0\n",
      "1672 INFO: wrote C:\\Users\\syriu\\Desktop_ArtNouveau_Clock.spec\n",
      "1672 INFO: UPX is not available.\n",
      "1672 INFO: Extending PYTHONPATH with paths\n",
      "['C:\\\\Users\\\\syriu']\n",
      "2893 INFO: Appending 'binaries' from .spec\n",
      "2893 INFO: checking Analysis\n",
      "2967 INFO: checking PYZ\n",
      "3017 INFO: checking PKG\n",
      "3061 INFO: Bootloader C:\\Users\\syriu\\anaconda3\\lib\\site-packages\\PyInstaller\\bootloader\\Windows-64bit-intel\\runw.exe\n",
      "3061 INFO: checking EXE\n",
      "3093 INFO: Rebuilding EXE-00.toc because Desktop_ArtNouveau_Clock.exe missing\n",
      "3093 INFO: Building EXE from EXE-00.toc\n",
      "3093 INFO: Copying bootloader EXE to C:\\Users\\syriu\\dist\\Desktop_ArtNouveau_Clock.exe.notanexecutable\n",
      "3109 INFO: Copying icon to EXE\n",
      "3109 INFO: Copying icons from ['C:\\\\Users\\\\syriu\\\\2_clock_icon_bright.ico']\n",
      "3141 INFO: Writing RT_GROUP_ICON 0 resource with 20 bytes\n",
      "3141 INFO: Writing RT_ICON 1 resource with 266280 bytes\n",
      "3141 INFO: Copying 0 resources to EXE\n",
      "3141 INFO: Embedding manifest in EXE\n",
      "3141 INFO: Updating manifest in C:\\Users\\syriu\\dist\\Desktop_ArtNouveau_Clock.exe.notanexecutable\n",
      "3173 INFO: Updating resource type 24 name 1 language 0\n",
      "3179 INFO: Appending PKG archive to EXE\n",
      "3330 INFO: Fixing EXE headers\n",
      "4372 INFO: Building EXE from EXE-00.toc completed successfully.\n"
     ]
    }
   ],
   "source": [
    "!pyinstaller --onefile --noconsole --add-binary \"C:/Users/syriu/arnouveau_frame.png;.\" --icon=2_clock_icon_bright.ico Desktop_ArtNouveau_Clock.py"
   ]
  },
  {
   "cell_type": "code",
   "execution_count": null,
   "id": "84e37663",
   "metadata": {},
   "outputs": [],
   "source": []
  }
 ],
 "metadata": {
  "kernelspec": {
   "display_name": "Python 3 (ipykernel)",
   "language": "python",
   "name": "python3"
  },
  "language_info": {
   "codemirror_mode": {
    "name": "ipython",
    "version": 3
   },
   "file_extension": ".py",
   "mimetype": "text/x-python",
   "name": "python",
   "nbconvert_exporter": "python",
   "pygments_lexer": "ipython3",
   "version": "3.9.7"
  }
 },
 "nbformat": 4,
 "nbformat_minor": 5
}
